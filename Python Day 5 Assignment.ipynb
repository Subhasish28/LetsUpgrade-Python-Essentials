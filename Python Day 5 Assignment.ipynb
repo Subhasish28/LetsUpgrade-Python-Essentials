{
 "cells": [
  {
   "cell_type": "code",
   "execution_count": 4,
   "metadata": {},
   "outputs": [
    {
     "name": "stdout",
     "output_type": "stream",
     "text": [
      "[1, 1, 1, 2, 2, 3, 4, 4, 10, 56, 56, 0, 0, 0, 0, 0]\n"
     ]
    }
   ],
   "source": [
    "#Assignment 1 :-\n",
    "#[0,1,2,10,4,1,0,56,2,0,1,3,0,56,0,4]\n",
    "#Sort by increasing order but all zeroes should be at he right hand side.\n",
    "\n",
    "#Answer :-\n",
    "\n",
    "List1 = [0,1,2,10,4,1,0,56,2,0,1,3,0,56,0,4]\n",
    "List1.sort()\n",
    "def pushZerosToEnd(List1, n):\n",
    "    count = 0\n",
    "    for i in range(n):\n",
    "        if List1[i] != 0:\n",
    "            List1[count] = List1[i]\n",
    "            count += 1\n",
    "    while count < n:\n",
    "                List1[count] = 0\n",
    "                count += 1\n",
    "n = len(List1)\n",
    "pushZerosToEnd(List1, n)\n",
    "print(List1)"
   ]
  },
  {
   "cell_type": "code",
   "execution_count": 5,
   "metadata": {},
   "outputs": [
    {
     "name": "stdout",
     "output_type": "stream",
     "text": [
      "[5, 10, 15, 20, 25, 35, 40, 45, 60, 60, 70, 80]\n"
     ]
    }
   ],
   "source": [
    "#Assignment 2 :-\n",
    "#list1 = [10,20,40,60,70,80] sorted list\n",
    "#list2 = [5,15,25,35,45,60] sorted list\n",
    "#Merge these two sorted lists to produce one sorted list, but use only loop either while or for only one time.\n",
    "\n",
    "#Answer :-\n",
    "\n",
    "list1 = [10,20,40,60,70,80]\n",
    "list2 = [5,15,25,35,45,60]\n",
    "for i in list1 :\n",
    "    list2.append(i)\n",
    "list2.sort()\n",
    "print (list2)"
   ]
  },
  {
   "cell_type": "code",
   "execution_count": null,
   "metadata": {},
   "outputs": [],
   "source": []
  }
 ],
 "metadata": {
  "kernelspec": {
   "display_name": "Python",
   "language": "python",
   "name": "conda-env-python-py"
  },
  "language_info": {
   "codemirror_mode": {
    "name": "ipython",
    "version": 3
   },
   "file_extension": ".py",
   "mimetype": "text/x-python",
   "name": "python",
   "nbconvert_exporter": "python",
   "pygments_lexer": "ipython3",
   "version": "3.6.10"
  }
 },
 "nbformat": 4,
 "nbformat_minor": 4
}
