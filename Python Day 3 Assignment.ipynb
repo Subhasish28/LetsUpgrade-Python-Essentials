#Assignment 1 > Sum of n numbers with the help of while loop

n = int (input ("Enter a number = "))
sum=0
while (n >= 0):
    sum += n
    n-=1
print ("Sum of n numbers using while loop = ",sum)

-----------------------------------------------------------------------------

#Assignment 2 > Take an integer and find prime or not

num = int ( input ("Please input a number = "))
if num > 1: 
      
   for i in range(2, num): 
         
       if (num % i) == 0: 
           print(num, "is not a prime number") 
           break
   else: 
       print(num, "is a prime number") 
else: 
   print(num, "is not a prime number")
