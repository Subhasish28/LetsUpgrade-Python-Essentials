{
 "cells": [
  {
   "cell_type": "code",
   "execution_count": 57,
   "metadata": {},
   "outputs": [
    {
     "data": {
      "text/plain": [
       "{'FTP': 21, 'SSH': 22, 'telnet': 23, 'http': 80}"
      ]
     },
     "execution_count": 57,
     "metadata": {},
     "output_type": "execute_result"
    }
   ],
   "source": [
    "#Assignemnt 1 :  Use the dictionary, port1 = {21: \"FTP\", 22:\"SSH\", 23: \"telnet\", 80: \"http\"}, and make a new dictionary in which keys become values and values become keys, as shown: Port2 = {“FTP\":21, \"SSH\":22, “telnet\":23,\n",
    "#\"http\": 80}\n",
    "\n",
    "port1 = {21: \"FTP\", 22:\"SSH\", 23: \"telnet\", 80: \"http\"}\n",
    "Port2 = dict([(value, key) for key, value in port1.items()])\n",
    "for i in Port2: \n",
    "    (i, \" :  \", Port2[i])\n",
    "Port2"
   ]
  },
  {
   "cell_type": "code",
   "execution_count": 47,
   "metadata": {},
   "outputs": [
    {
     "name": "stdout",
     "output_type": "stream",
     "text": [
      "3  7  11  9  "
     ]
    }
   ],
   "source": [
    "#Assignment 2 : \n",
    "#Take a list of tuple as shown below.\n",
    "#[(1,2), (3,4), (5,6),(4,5)]\n",
    "#Make a new list which contains sum of number of tuples. \n",
    "#For example \n",
    "#Input \n",
    "#[(1,2), (3,4), (5,6)]\n",
    "#Out put \n",
    "#[3, 7, 11]\n",
    "\n",
    "List1 = [(1,2), (3,4), (5,6),(4,5)]\n",
    "for i in range(len(List1)):\n",
    "        print(sum(List1[i]), end=\"  \")\n",
    "        i=i+1"
   ]
  },
  {
   "cell_type": "code",
   "execution_count": 27,
   "metadata": {},
   "outputs": [
    {
     "data": {
      "text/plain": [
       "[(1, 2, 3), [1, 2, 'a', 'hit', 'less']]"
      ]
     },
     "execution_count": 27,
     "metadata": {},
     "output_type": "execute_result"
    }
   ],
   "source": [
    "#Assignment 3 :\n",
    "#Take a list as shown below \n",
    "#[(1,2,3), [1,2], ['a','hit','less']]\n",
    "#The List contains tuple and lists. Make the elements of inner lists and tuples to outer list\n",
    "\n",
    "List1 = [(1,2,3), [1,2], ['a','hit','less']]\n",
    "merged_list = List1[1]+List1[2]\n",
    "List1 = [List1[0], merged_list]\n",
    "List1"
   ]
  },
  {
   "cell_type": "code",
   "execution_count": null,
   "metadata": {},
   "outputs": [],
   "source": []
  }
 ],
 "metadata": {
  "kernelspec": {
   "display_name": "Python",
   "language": "python",
   "name": "conda-env-python-py"
  },
  "language_info": {
   "codemirror_mode": {
    "name": "ipython",
    "version": 3
   },
   "file_extension": ".py",
   "mimetype": "text/x-python",
   "name": "python",
   "nbconvert_exporter": "python",
   "pygments_lexer": "ipython3",
   "version": "3.6.11"
  }
 },
 "nbformat": 4,
 "nbformat_minor": 4
}
