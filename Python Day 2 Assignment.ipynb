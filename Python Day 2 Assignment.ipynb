{
 "cells": [
  {
   "cell_type": "code",
   "execution_count": 2,
   "metadata": {},
   "outputs": [
    {
     "name": "stdout",
     "output_type": "stream",
     "text": [
      "Hello, Python!\n",
      "Hello Python!\n",
      "Python's World\n",
      "Python's World\n"
     ]
    }
   ],
   "source": [
    "#Basic Python Syntax\n",
    "print (\"Hello, Python!\")\n",
    "print (\"Hello \\\n",
    "Python!\")\n",
    "print (\"Python's World\")\n",
    "print ('Python\\'s World')"
   ]
  },
  {
   "cell_type": "code",
   "execution_count": 8,
   "metadata": {},
   "outputs": [
    {
     "name": "stdout",
     "output_type": "stream",
     "text": [
      "The name of the person is  XYZ marks is  90.5 age is  20\n",
      "The name of the person is XYZ marks is 90.5 age is 20 \n",
      "The name of the person is XYZ marks is 90.5 age is  20\n"
     ]
    }
   ],
   "source": [
    "name=\"XYZ\"\n",
    "marks=90.5\n",
    "age=20\n",
    "print(\"The name of the person is \",name,\"marks is \",marks, \"age is \",age)\n",
    "print(f\"The name of the person is {name} marks is {marks} age is {age} \")\n",
    "print(\"The name of the person is %2s marks is %3.1f age is %3d\"%(name,marks,age))"
   ]
  },
  {
   "cell_type": "code",
   "execution_count": 11,
   "metadata": {},
   "outputs": [
    {
     "name": "stdout",
     "output_type": "stream",
     "text": [
      "100\n",
      "1000.0\n",
      "John\n"
     ]
    }
   ],
   "source": [
    "#Python Variables and Assignment Statement\n",
    "counter = 100          # An integer assignment\n",
    "miles   = 1000.0       # A floating point\n",
    "name    = \"John\"       # A string\n",
    "\n",
    "print (counter)\n",
    "print (miles)\n",
    "print (name)"
   ]
  },
  {
   "cell_type": "code",
   "execution_count": 12,
   "metadata": {},
   "outputs": [
    {
     "data": {
      "text/plain": [
       "94153340938816"
      ]
     },
     "execution_count": 12,
     "metadata": {},
     "output_type": "execute_result"
    }
   ],
   "source": [
    "a = b = c = 1\n",
    "id(a)\n",
    "id(b)"
   ]
  },
  {
   "cell_type": "code",
   "execution_count": 19,
   "metadata": {},
   "outputs": [
    {
     "data": {
      "text/plain": [
       "int"
      ]
     },
     "execution_count": 19,
     "metadata": {},
     "output_type": "execute_result"
    }
   ],
   "source": [
    "type(10)"
   ]
  },
  {
   "cell_type": "code",
   "execution_count": 20,
   "metadata": {},
   "outputs": [
    {
     "data": {
      "text/plain": [
       "str"
      ]
     },
     "execution_count": 20,
     "metadata": {},
     "output_type": "execute_result"
    }
   ],
   "source": [
    "type(\"a\")"
   ]
  },
  {
   "cell_type": "code",
   "execution_count": 21,
   "metadata": {},
   "outputs": [
    {
     "data": {
      "text/plain": [
       "float"
      ]
     },
     "execution_count": 21,
     "metadata": {},
     "output_type": "execute_result"
    }
   ],
   "source": [
    "type(10.39)"
   ]
  },
  {
   "cell_type": "code",
   "execution_count": 22,
   "metadata": {},
   "outputs": [
    {
     "data": {
      "text/plain": [
       "bool"
      ]
     },
     "execution_count": 22,
     "metadata": {},
     "output_type": "execute_result"
    }
   ],
   "source": [
    "type(True)"
   ]
  },
  {
   "cell_type": "code",
   "execution_count": 23,
   "metadata": {},
   "outputs": [
    {
     "name": "stdout",
     "output_type": "stream",
     "text": [
      "13\n",
      "5\n",
      "36\n",
      "2.25\n",
      "2\n",
      "1\n",
      "6561\n"
     ]
    }
   ],
   "source": [
    "#Python Operators\n",
    "# Examples of Arithmetic Operator  \n",
    "a = 9\n",
    "b = 4\n",
    "  \n",
    "# Addition of numbers  \n",
    "add = a + b  \n",
    "  \n",
    "# Subtraction of numbers  \n",
    "sub = a - b  \n",
    "  \n",
    "# Multiplication of number  \n",
    "mul = a * b  \n",
    "  \n",
    "# Division(float) of number  \n",
    "div1 = a / b  \n",
    "  \n",
    "# Division(floor) of number  \n",
    "div2 = a // b  \n",
    "  \n",
    "# Modulo of both number  \n",
    "mod = a % b  \n",
    "  \n",
    "# Power \n",
    "p = a ** b \n",
    "  \n",
    "# print results  \n",
    "print(add)  \n",
    "print(sub)  \n",
    "print(mul)  \n",
    "print(div1)  \n",
    "print(div2)  \n",
    "print(mod) \n",
    "print(p)"
   ]
  },
  {
   "cell_type": "code",
   "execution_count": 24,
   "metadata": {},
   "outputs": [
    {
     "name": "stdout",
     "output_type": "stream",
     "text": [
      "False\n",
      "True\n",
      "False\n",
      "True\n",
      "False\n",
      "True\n"
     ]
    }
   ],
   "source": [
    "# Examples of Relational Operators \n",
    "a = 13\n",
    "b = 33\n",
    "  \n",
    "# a > b is False \n",
    "print(a > b) \n",
    "  \n",
    "# a < b is True \n",
    "print(a < b) \n",
    "  \n",
    "# a == b is False \n",
    "print(a == b) \n",
    "  \n",
    "# a != b is True \n",
    "print(a != b) \n",
    "  \n",
    "# a >= b is False \n",
    "print(a >= b) \n",
    "  \n",
    "# a <= b is True \n",
    "print(a <= b)"
   ]
  },
  {
   "cell_type": "code",
   "execution_count": 25,
   "metadata": {},
   "outputs": [
    {
     "name": "stdout",
     "output_type": "stream",
     "text": [
      "False\n",
      "True\n",
      "False\n"
     ]
    }
   ],
   "source": [
    "# Examples of Logical Operator \n",
    "a = True\n",
    "b = False\n",
    "  \n",
    "# Print a and b is False \n",
    "print(a and b) \n",
    "  \n",
    "# Print a or b is True \n",
    "print(a or b) \n",
    "  \n",
    "# Print not a is False \n",
    "print(not a) "
   ]
  },
  {
   "cell_type": "code",
   "execution_count": 26,
   "metadata": {},
   "outputs": [
    {
     "name": "stdout",
     "output_type": "stream",
     "text": [
      "0\n",
      "14\n",
      "-11\n",
      "14\n",
      "2\n",
      "40\n"
     ]
    }
   ],
   "source": [
    "# Examples of Bitwise operators \n",
    "a = 10\n",
    "b = 4\n",
    "  \n",
    "# Print bitwise AND operation   \n",
    "print(a & b) \n",
    "  \n",
    "# Print bitwise OR operation \n",
    "print(a | b) \n",
    "  \n",
    "# Print bitwise NOT operation  \n",
    "print(~a) \n",
    "  \n",
    "# print bitwise XOR operation  \n",
    "print(a ^ b) \n",
    "  \n",
    "# print bitwise right shift operation  \n",
    "print(a >> 2) \n",
    "  \n",
    "# print bitwise left shift operation  \n",
    "print(a << 2) "
   ]
  },
  {
   "cell_type": "code",
   "execution_count": 28,
   "metadata": {},
   "outputs": [
    {
     "name": "stdout",
     "output_type": "stream",
     "text": [
      "False\n",
      "True\n",
      "False\n"
     ]
    }
   ],
   "source": [
    "# Examples of Identity operators \n",
    "a1 = 3\n",
    "b1 = 3\n",
    "a2 = 'Das'\n",
    "b2 = 'Das'\n",
    "a3 = [1,2,3] \n",
    "b3 = [1,2,3] \n",
    "  \n",
    "  \n",
    "print(a1 is not b1) \n",
    "  \n",
    "  \n",
    "print(a2 is b2) \n",
    "  \n",
    "# Output is False, since lists are mutable. \n",
    "print(a3 is b3) "
   ]
  },
  {
   "cell_type": "code",
   "execution_count": null,
   "metadata": {},
   "outputs": [],
   "source": []
  }
 ],
 "metadata": {
  "kernelspec": {
   "display_name": "Python",
   "language": "python",
   "name": "conda-env-python-py"
  },
  "language_info": {
   "codemirror_mode": {
    "name": "ipython",
    "version": 3
   },
   "file_extension": ".py",
   "mimetype": "text/x-python",
   "name": "python",
   "nbconvert_exporter": "python",
   "pygments_lexer": "ipython3",
   "version": "3.6.10"
  }
 },
 "nbformat": 4,
 "nbformat_minor": 4
}
